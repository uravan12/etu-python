{
 "cells": [
  {
   "cell_type": "code",
   "execution_count": 7,
   "id": "343617a0-cc5e-4022-a56f-da370a03304d",
   "metadata": {},
   "outputs": [],
   "source": [
    "import pandas as pd\n",
    "from sklearn.model_selection import train_test_split\n",
    "from sklearn.metrics import roc_auc_score, precision_recall_curve, f1_score\n",
    "from sklearn.linear_model import LogisticRegression\n",
    "from sklearn.feature_extraction import DictVectorizer\n",
    "import matplotlib.pyplot as plt\n",
    "import numpy as np\n",
    "import zipfile\n",
    "import os\n",
    "import joblib\n",
    "import requests"
   ]
  },
  {
   "cell_type": "code",
   "execution_count": 10,
   "id": "3d67fd8c-ce49-4013-a01a-21f23986f478",
   "metadata": {},
   "outputs": [
    {
     "name": "stderr",
     "output_type": "stream",
     "text": [
      "/Library/Frameworks/Python.framework/Versions/3.12/lib/python3.12/site-packages/urllib3/connectionpool.py:1099: InsecureRequestWarning: Unverified HTTPS request is being made to host 'archive.ics.uci.edu'. Adding certificate verification is strongly advised. See: https://urllib3.readthedocs.io/en/latest/advanced-usage.html#tls-warnings\n",
      "  warnings.warn(\n"
     ]
    },
    {
     "name": "stdout",
     "output_type": "stream",
     "text": [
      "Файл сохранен по пути: bank+marketing/bank/bank-full.csv\n",
      "   age           job  marital  education default  balance housing loan  \\\n",
      "0   58    management  married   tertiary      no     2143     yes   no   \n",
      "1   44    technician   single  secondary      no       29     yes   no   \n",
      "2   33  entrepreneur  married  secondary      no        2     yes  yes   \n",
      "3   47   blue-collar  married    unknown      no     1506     yes   no   \n",
      "4   33       unknown   single    unknown      no        1      no   no   \n",
      "\n",
      "   contact  day month  duration  campaign  pdays  previous poutcome   y  \n",
      "0  unknown    5   may       261         1     -1         0  unknown  no  \n",
      "1  unknown    5   may       151         1     -1         0  unknown  no  \n",
      "2  unknown    5   may        76         1     -1         0  unknown  no  \n",
      "3  unknown    5   may        92         1     -1         0  unknown  no  \n",
      "4  unknown    5   may       198         1     -1         0  unknown  no  \n"
     ]
    }
   ],
   "source": [
    "url = 'https://archive.ics.uci.edu/static/public/222/bank+marketing.zip'\n",
    "zip_path = 'bank+marketing.zip'\n",
    "response = requests.get(url, verify=False)  \n",
    "\n",
    "with open(zip_path, 'wb') as f:\n",
    "    f.write(response.content)\n",
    "\n",
    "with zipfile.ZipFile(zip_path, 'r') as zip_ref:\n",
    "    zip_ref.extractall('bank+marketing')\n",
    "\n",
    "csv_path = os.path.join('bank+marketing', 'bank', 'bank-full.csv')\n",
    "print(f\"Файл сохранен по пути: {csv_path}\")\n",
    "data = pd.read_csv(csv_path, sep=';')\n",
    "print(data.head())"
   ]
  },
  {
   "cell_type": "code",
   "execution_count": 12,
   "id": "d6020078-b5c8-489d-87c2-2050663daaa8",
   "metadata": {},
   "outputs": [],
   "source": [
    "columns = [\n",
    "    'age', 'job', 'marital', 'education', 'balance', 'housing', 'contact',\n",
    "    'day', 'month', 'duration', 'campaign', 'pdays', 'previous', 'poutcome', 'y'\n",
    "]\n",
    "data = data[columns]\n",
    "data['y'] = (data['y'] == 'yes').astype(int)\n",
    "\n",
    "# Split data\n",
    "df_train, df_temp = train_test_split(data, test_size=0.4, random_state=1)\n",
    "df_val, df_test = train_test_split(df_temp, test_size=0.5, random_state=1)"
   ]
  },
  {
   "cell_type": "code",
   "execution_count": 13,
   "id": "2a689d24-3c0d-49bd-8044-4ce3fc211fa5",
   "metadata": {},
   "outputs": [
    {
     "name": "stdout",
     "output_type": "stream",
     "text": [
      "AUC scores for features: {'balance': np.float64(0.5916931412945473), 'day': np.float64(0.5291275984648961), 'duration': np.float64(0.8128648066681694), 'previous': np.float64(0.5986704105715122)}\n"
     ]
    }
   ],
   "source": [
    "numerical_features = ['balance', 'day', 'duration', 'previous']\n",
    "auc_scores = {}\n",
    "\n",
    "for feature in numerical_features:\n",
    "    auc = roc_auc_score(df_train['y'], df_train[feature])\n",
    "    if auc < 0.5:\n",
    "        df_train[feature] = -df_train[feature]\n",
    "        auc = roc_auc_score(df_train['y'], df_train[feature])\n",
    "    auc_scores[feature] = auc\n",
    "\n",
    "print(\"AUC scores for features:\", auc_scores)"
   ]
  },
  {
   "cell_type": "code",
   "execution_count": null,
   "id": "b5e5d8a4-85aa-45c8-82d8-39449ebe9619",
   "metadata": {},
   "outputs": [],
   "source": [
    "#Какая числовая переменная (из следующих 4) имеет наивысший AUC? Ответ: duration"
   ]
  },
  {
   "cell_type": "code",
   "execution_count": 14,
   "id": "1e6e0a83-9b23-496d-ba08-f39f8e7d9cec",
   "metadata": {},
   "outputs": [
    {
     "name": "stdout",
     "output_type": "stream",
     "text": [
      "Validation AUC: 1.0\n"
     ]
    }
   ],
   "source": [
    "dv = DictVectorizer(sparse=False)\n",
    "train_dicts = df_train.to_dict(orient='records')\n",
    "X_train = dv.fit_transform(train_dicts)\n",
    "y_train = df_train['y']\n",
    "\n",
    "val_dicts = df_val.to_dict(orient='records')\n",
    "X_val = dv.transform(val_dicts)\n",
    "y_val = df_val['y']\n",
    "\n",
    "model = LogisticRegression(solver='liblinear', C=1.0, max_iter=1000)\n",
    "model.fit(X_train, y_train)\n",
    "\n",
    "val_preds = model.predict_proba(X_val)[:, 1]\n",
    "val_auc = roc_auc_score(y_val, val_preds)\n",
    "print(\"Validation AUC:\", round(val_auc, 3))"
   ]
  },
  {
   "cell_type": "code",
   "execution_count": null,
   "id": "6af02fc5-e8d2-4be3-9fcf-ac8eb33a58a1",
   "metadata": {},
   "outputs": [],
   "source": [
    "#Какой AUC у этой модели на валидационном наборе данных? (округлите до 3 знаков) Ответ: 1"
   ]
  },
  {
   "cell_type": "code",
   "execution_count": 15,
   "id": "d53bbce6-a353-4d8b-b78e-4e917fb0f839",
   "metadata": {},
   "outputs": [
    {
     "data": {
      "image/png": "[encoded data removed]",
      "text/plain": [
       "<Figure size 640x480 with 1 Axes>"
      ]
     },
     "metadata": {},
     "output_type": "display_data"
    },
    {
     "name": "stdout",
     "output_type": "stream",
     "text": [
      "Threshold where precision meets recall: 0.935\n"
     ]
    }
   ],
   "source": [
    "precisions, recalls, thresholds = precision_recall_curve(y_val, val_preds)\n",
    "plt.plot(thresholds, precisions[:-1], label='Precision')\n",
    "plt.plot(thresholds, recalls[:-1], label='Recall')\n",
    "plt.xlabel(\"Threshold\")\n",
    "plt.legend()\n",
    "plt.show()\n",
    "\n",
    "intersection_threshold = thresholds[np.argmin(abs(precisions - recalls))]\n",
    "print(\"Threshold where precision meets recall:\", round(intersection_threshold, 3))"
   ]
  },
  {
   "cell_type": "code",
   "execution_count": 19,
   "id": "71a8f6a6-5c09-4287-a211-d85e80404f39",
   "metadata": {},
   "outputs": [
    {
     "name": "stdout",
     "output_type": "stream",
     "text": [
      "Best threshold for F1 score: 0.935\n"
     ]
    }
   ],
   "source": [
    "from sklearn.metrics import f1_score\n",
    "f1_scores = [f1_score(y_val, val_preds >= t) for t in thresholds]\n",
    "best_f1_threshold = thresholds[np.argmax(f1_scores)]\n",
    "print(\"Best threshold for F1 score:\", round(best_f1_threshold, 3))"
   ]
  },
  {
   "cell_type": "code",
   "execution_count": 25,
   "id": "5465bb32-256a-4539-bd4d-9bc3fbedc4a2",
   "metadata": {},
   "outputs": [
    {
     "name": "stdout",
     "output_type": "stream",
     "text": [
      "standart mistake: 0.004116563175424417\n"
     ]
    }
   ],
   "source": [
    "from sklearn.model_selection import KFold\n",
    "\n",
    "kf = KFold(n_splits=5, shuffle=True, random_state=1)\n",
    "aucs = []\n",
    "\n",
    "for train_idx, val_idx in kf.split(df_train):\n",
    "    train_data, val_data = df_train.iloc[train_idx], df_train.iloc[val_idx]\n",
    "    train_dict = train_data.drop(columns=['y']).to_dict(orient='records')\n",
    "    val_dict = val_data.drop(columns=['y']).to_dict(orient='records')\n",
    "    \n",
    "    X_train = dv.fit_transform(train_dict)\n",
    "    X_val = dv.transform(val_dict)\n",
    "    y_train = train_data['y'].values\n",
    "    y_val = val_data['y'].values\n",
    "    \n",
    "    model = LogisticRegression(solver='liblinear', C=1.0, max_iter=1000)\n",
    "    model.fit(X_train, y_train)\n",
    "    \n",
    "    y_pred = model.predict_proba(X_val)[:, 1]\n",
    "    auc = roc_auc_score(y_val, y_pred)\n",
    "    aucs.append(auc)\n",
    "\n",
    "# Стандартная ошибка\n",
    "std_error = np.std(aucs)\n",
    "print(f'standart mistake: {std_error}')"
   ]
  },
  {
   "cell_type": "code",
   "execution_count": 26,
   "id": "8c34a1cd-4195-4222-ac33-edcc18cb98d3",
   "metadata": {},
   "outputs": [
    {
     "name": "stdout",
     "output_type": "stream",
     "text": [
      "best C: 1, 0.908, 0.004\n"
     ]
    }
   ],
   "source": [
    "C_values = [0.000001, 0.001, 1]\n",
    "mean_scores = []\n",
    "std_scores = []\n",
    "\n",
    "for C in C_values:\n",
    "    aucs = []\n",
    "    for train_idx, val_idx in kf.split(df_train):\n",
    "        train_data, val_data = df_train.iloc[train_idx], df_train.iloc[val_idx]\n",
    "        train_dict = train_data.drop(columns=['y']).to_dict(orient='records')\n",
    "        val_dict = val_data.drop(columns=['y']).to_dict(orient='records')\n",
    "        \n",
    "        X_train = dv.fit_transform(train_dict)\n",
    "        X_val = dv.transform(val_dict)\n",
    "        y_train = train_data['y'].values\n",
    "        y_val = val_data['y'].values\n",
    "        \n",
    "        model = LogisticRegression(solver='liblinear', C=C, max_iter=1000)\n",
    "        model.fit(X_train, y_train)\n",
    "        \n",
    "        y_pred = model.predict_proba(X_val)[:, 1]\n",
    "        auc = roc_auc_score(y_val, y_pred)\n",
    "        aucs.append(auc)\n",
    "    \n",
    "    mean_scores.append(np.mean(aucs))\n",
    "    std_scores.append(np.std(aucs))\n",
    "\n",
    "# Определение лучшего значения C\n",
    "best_index = np.argmax(mean_scores)\n",
    "best_C = C_values[best_index]\n",
    "print(f'best C: {best_C}, {round(mean_scores[best_index], 3)}, {round(std_scores[best_index], 3)}')"
   ]
  },
  {
   "cell_type": "code",
   "execution_count": null,
   "id": "3a6ca5bd-614e-4d44-9a4b-80307e3ee2a1",
   "metadata": {},
   "outputs": [],
   "source": []
  }
 ],
 "metadata": {
  "kernelspec": {
   "display_name": "Python 3 (ipykernel)",
   "language": "python",
   "name": "python3"
  },
  "language_info": {
   "codemirror_mode": {
    "name": "ipython",
    "version": 3
   },
   "file_extension": ".py",
   "mimetype": "text/x-python",
   "name": "python",
   "nbconvert_exporter": "python",
   "pygments_lexer": "ipython3",
   "version": "3.12.6"
  }
 },
 "nbformat": 4,
 "nbformat_minor": 5
}
